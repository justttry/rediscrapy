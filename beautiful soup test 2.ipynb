{
 "cells": [
  {
   "cell_type": "code",
   "execution_count": 34,
   "metadata": {
    "collapsed": true
   },
   "outputs": [],
   "source": [
    "from bs4 import BeautifulSoup\n",
    "from urllib2 import Request\n",
    "from selenium import webdriver"
   ]
  },
  {
   "cell_type": "code",
   "execution_count": 35,
   "metadata": {
    "collapsed": true
   },
   "outputs": [],
   "source": [
    "url = 'http://www.tianyancha.com'"
   ]
  },
  {
   "cell_type": "code",
   "execution_count": 36,
   "metadata": {
    "collapsed": false
   },
   "outputs": [],
   "source": [
    "driver = webdriver.PhantomJS(executable_path=r\"C:\\Program Files\\phantomjs-2.1.1-windows\\bin\\phantomjs.exe\")\n",
    "#data = urllib2.urlopen(urllib2.Request(url)).read()"
   ]
  },
  {
   "cell_type": "code",
   "execution_count": 37,
   "metadata": {
    "collapsed": true
   },
   "outputs": [],
   "source": [
    "driver.get(url)"
   ]
  },
  {
   "cell_type": "code",
   "execution_count": 38,
   "metadata": {
    "collapsed": false
   },
   "outputs": [],
   "source": [
    "data = driver.find_elements_by_xpath(\"//a[@class='f13 c3 block overflow-width ng-binding ng-scope']\")"
   ]
  },
  {
   "cell_type": "code",
   "execution_count": 18,
   "metadata": {
    "collapsed": true
   },
   "outputs": [],
   "source": [
    "data = driver.find_element_by_xpath(\"//a[@class='f13 c3 block overflow-width ng-binding ng-scope']\")"
   ]
  },
  {
   "cell_type": "code",
   "execution_count": 19,
   "metadata": {
    "collapsed": true
   },
   "outputs": [
    {
     "data": {
      "text/plain": [
       "['__class__',\n",
       " '__delattr__',\n",
       " '__dict__',\n",
       " '__doc__',\n",
       " '__eq__',\n",
       " '__format__',\n",
       " '__getattribute__',\n",
       " '__hash__',\n",
       " '__init__',\n",
       " '__module__',\n",
       " '__ne__',\n",
       " '__new__',\n",
       " '__reduce__',\n",
       " '__reduce_ex__',\n",
       " '__repr__',\n",
       " '__setattr__',\n",
       " '__sizeof__',\n",
       " '__str__',\n",
       " '__subclasshook__',\n",
       " '__weakref__',\n",
       " '_execute',\n",
       " '_id',\n",
       " '_parent',\n",
       " '_upload',\n",
       " '_w3c',\n",
       " 'clear',\n",
       " 'click',\n",
       " 'find_element',\n",
       " 'find_element_by_class_name',\n",
       " 'find_element_by_css_selector',\n",
       " 'find_element_by_id',\n",
       " 'find_element_by_link_text',\n",
       " 'find_element_by_name',\n",
       " 'find_element_by_partial_link_text',\n",
       " 'find_element_by_tag_name',\n",
       " 'find_element_by_xpath',\n",
       " 'find_elements',\n",
       " 'find_elements_by_class_name',\n",
       " 'find_elements_by_css_selector',\n",
       " 'find_elements_by_id',\n",
       " 'find_elements_by_link_text',\n",
       " 'find_elements_by_name',\n",
       " 'find_elements_by_partial_link_text',\n",
       " 'find_elements_by_tag_name',\n",
       " 'find_elements_by_xpath',\n",
       " 'get_attribute',\n",
       " 'get_property',\n",
       " 'id',\n",
       " 'is_displayed',\n",
       " 'is_enabled',\n",
       " 'is_selected',\n",
       " 'location',\n",
       " 'location_once_scrolled_into_view',\n",
       " 'parent',\n",
       " 'rect',\n",
       " 'screenshot',\n",
       " 'screenshot_as_base64',\n",
       " 'screenshot_as_png',\n",
       " 'send_keys',\n",
       " 'size',\n",
       " 'submit',\n",
       " 'tag_name',\n",
       " 'text',\n",
       " 'value_of_css_property']"
      ]
     },
     "execution_count": 19,
     "metadata": {},
     "output_type": "execute_result"
    }
   ],
   "source": [
    "dir(data)"
   ]
  },
  {
   "cell_type": "code",
   "execution_count": 20,
   "metadata": {
    "collapsed": false
   },
   "outputs": [
    {
     "data": {
      "text/plain": [
       "u'a'"
      ]
     },
     "execution_count": 20,
     "metadata": {},
     "output_type": "execute_result"
    }
   ],
   "source": [
    "data.tag_name"
   ]
  },
  {
   "cell_type": "code",
   "execution_count": 21,
   "metadata": {
    "collapsed": false
   },
   "outputs": [
    {
     "data": {
      "text/plain": [
       "<bound method WebElement.value_of_css_property of <selenium.webdriver.remote.webelement.WebElement (session=\"71058ee0-135f-11e7-ab54-bd1ad37e95f1\", element=\":wdc:1490668846136\")>>"
      ]
     },
     "execution_count": 21,
     "metadata": {},
     "output_type": "execute_result"
    }
   ],
   "source": [
    "data.value_of_css_property"
   ]
  },
  {
   "cell_type": "code",
   "execution_count": 29,
   "metadata": {
    "collapsed": false
   },
   "outputs": [
    {
     "data": {
      "text/plain": [
       "u'http://bj.tianyancha.com/search'"
      ]
     },
     "execution_count": 29,
     "metadata": {},
     "output_type": "execute_result"
    }
   ],
   "source": [
    "data.get_attribute('href')"
   ]
  },
  {
   "cell_type": "code",
   "execution_count": 30,
   "metadata": {
    "collapsed": true
   },
   "outputs": [],
   "source": [
    "data = driver.find_elements_by_xpath(\"//a[@class='f13 c3 block overflow-width ng-binding ng-scope']\")"
   ]
  },
  {
   "cell_type": "code",
   "execution_count": 39,
   "metadata": {
    "collapsed": false
   },
   "outputs": [
    {
     "name": "stdout",
     "output_type": "stream",
     "text": [
      "城市: • 北京, 网址: http://bj.tianyancha.com/search\n",
      "城市: • 天津, 网址: http://tj.tianyancha.com/search\n",
      "城市: • 上海, 网址: http://sh.tianyancha.com/search\n",
      "城市: • 重庆, 网址: http://cq.tianyancha.com/search\n",
      "城市: • 石家庄, 网址: http://sjz.tianyancha.com/search\n",
      "城市: • 唐山, 网址: http://tangshan.tianyancha.com/search\n",
      "城市: • 秦皇岛, 网址: http://qhd.tianyancha.com/search\n",
      "城市: • 邯郸, 网址: http://handan.tianyancha.com/search\n",
      "城市: • 邢台, 网址: http://xingtai.tianyancha.com/search\n",
      "城市: • 保定, 网址: http://baoding.tianyancha.com/search\n",
      "城市: • 张家口, 网址: http://zjk.tianyancha.com/search\n",
      "城市: • 承德, 网址: http://chengde.tianyancha.com/search\n",
      "城市: • 沧州, 网址: http://cangzhou.tianyancha.com/search\n",
      "城市: • 廊坊, 网址: http://langfang.tianyancha.com/search\n",
      "城市: • 衡水, 网址: http://hengshui.tianyancha.com/search\n",
      "城市: • 太原, 网址: http://taiyuan.tianyancha.com/search\n",
      "城市: • 大同, 网址: http://datong.tianyancha.com/search\n",
      "城市: • 阳泉, 网址: http://yangquan.tianyancha.com/search\n",
      "城市: • 长治, 网址: http://zhangzhi.tianyancha.com/search\n",
      "城市: • 晋城, 网址: http://jincheng.tianyancha.com/search\n",
      "城市: • 朔州, 网址: http://shuozhou.tianyancha.com/search\n",
      "城市: • 晋中, 网址: http://jinzhong.tianyancha.com/search\n",
      "城市: • 运城, 网址: http://yuncheng.tianyancha.com/search\n",
      "城市: • 忻州, 网址: http://xinzhou.tianyancha.com/search\n",
      "城市: • 临汾, 网址: http://linfen.tianyancha.com/search\n",
      "城市: • 吕梁, 网址: http://lvliang.tianyancha.com/search\n",
      "城市: • 呼和浩特, 网址: http://hhht.tianyancha.com/search\n",
      "城市: • 包头, 网址: http://baotou.tianyancha.com/search\n",
      "城市: • 乌海, 网址: http://wuhai.tianyancha.com/search\n",
      "城市: • 赤峰, 网址: http://chifeng.tianyancha.com/search\n",
      "城市: • 通辽, 网址: http://tongliao.tianyancha.com/search\n",
      "城市: • 鄂尔多斯, 网址: http://eeds.tianyancha.com/search\n",
      "城市: • 呼伦贝尔, 网址: http://hlbe.tianyancha.com/search\n",
      "城市: • 巴彦淖尔, 网址: http://byne.tianyancha.com/search\n",
      "城市: • 乌兰察布, 网址: http://wlcb.tianyancha.com/search\n",
      "城市: • 兴安盟, 网址: http://xam.tianyancha.com/search\n",
      "城市: • 锡林郭勒盟, 网址: http://xlglm.tianyancha.com/search\n",
      "城市: • 阿拉善盟, 网址: http://alsm.tianyancha.com/search\n",
      "城市: • 沈阳, 网址: http://shenyang.tianyancha.com/search\n",
      "城市: • 大连, 网址: http://dalian.tianyancha.com/search\n",
      "城市: • 鞍山, 网址: http://anshan.tianyancha.com/search\n",
      "城市: • 抚顺, 网址: http://fushun.tianyancha.com/search\n",
      "城市: • 本溪, 网址: http://benxi.tianyancha.com/search\n",
      "城市: • 丹东, 网址: http://dandong.tianyancha.com/search\n",
      "城市: • 锦州, 网址: http://jinzhou.tianyancha.com/search\n",
      "城市: • 营口, 网址: http://yingkou.tianyancha.com/search\n",
      "城市: • 阜新, 网址: http://fuxin.tianyancha.com/search\n",
      "城市: • 辽阳, 网址: http://liaoyang.tianyancha.com/search\n",
      "城市: • 盘锦, 网址: http://panjin.tianyancha.com/search\n",
      "城市: • 铁岭, 网址: http://tieling.tianyancha.com/search\n",
      "城市: • 朝阳, 网址: http://chaoyang.tianyancha.com/search\n",
      "城市: • 葫芦岛, 网址: http://hld.tianyancha.com/search\n",
      "城市: • 长春, 网址: http://zhangchun.tianyancha.com/search\n",
      "城市: • 吉林, 网址: http://jilin.tianyancha.com/search\n",
      "城市: • 四平, 网址: http://siping.tianyancha.com/search\n",
      "城市: • 辽源, 网址: http://liaoyuan.tianyancha.com/search\n",
      "城市: • 通化, 网址: http://tonghua.tianyancha.com/search\n",
      "城市: • 白山, 网址: http://baishan.tianyancha.com/search\n",
      "城市: • 松原, 网址: http://songyuan.tianyancha.com/search\n",
      "城市: • 白城, 网址: http://baicheng.tianyancha.com/search\n",
      "城市: • 延边朝鲜族自治州, 网址: http://ybcxz.tianyancha.com/search\n",
      "城市: • 哈尔滨, 网址: http://heb.tianyancha.com/search\n",
      "城市: • 齐齐哈尔, 网址: http://qqhe.tianyancha.com/search\n",
      "城市: • 鸡西, 网址: http://jixi.tianyancha.com/search\n",
      "城市: • 鹤岗, 网址: http://hegang.tianyancha.com/search\n",
      "城市: • 双鸭山, 网址: http://sys.tianyancha.com/search\n",
      "城市: • 大庆, 网址: http://daqing.tianyancha.com/search\n",
      "城市: • 伊春, 网址: http://yich.tianyancha.com/search\n",
      "城市: • 佳木斯, 网址: http://jms.tianyancha.com/search\n",
      "城市: • 七台河, 网址: http://qth.tianyancha.com/search\n",
      "城市: • 牡丹江, 网址: http://mdj.tianyancha.com/search\n",
      "城市: • 黑河, 网址: http://heihe.tianyancha.com/search\n",
      "城市: • 绥化, 网址: http://suihua.tianyancha.com/search\n",
      "城市: • 大兴安岭地区, 网址: http://dxaldq.tianyancha.com/search\n",
      "城市: • 南京, 网址: http://nanjing.tianyancha.com/search\n",
      "城市: • 无锡, 网址: http://wuxi.tianyancha.com/search\n",
      "城市: • 徐州, 网址: http://xuzhou.tianyancha.com/search\n",
      "城市: • 常州, 网址: http://changzhou.tianyancha.com/search\n",
      "城市: • 苏州, 网址: http://suzhou.tianyancha.com/search\n",
      "城市: • 南通, 网址: http://nantong.tianyancha.com/search\n",
      "城市: • 连云港, 网址: http://lyg.tianyancha.com/search\n",
      "城市: • 淮安, 网址: http://huaian.tianyancha.com/search\n",
      "城市: • 盐城, 网址: http://yancheng.tianyancha.com/search\n",
      "城市: • 扬州, 网址: http://yangzhou.tianyancha.com/search\n",
      "城市: • 镇江, 网址: http://zhenjiang.tianyancha.com/search\n",
      "城市: • 泰州, 网址: http://taizhou.tianyancha.com/search\n",
      "城市: • 宿迁, 网址: http://suqian.tianyancha.com/search\n",
      "城市: • 杭州, 网址: http://hangzhou.tianyancha.com/search\n",
      "城市: • 宁波, 网址: http://ningbo.tianyancha.com/search\n",
      "城市: • 温州, 网址: http://wenzhou.tianyancha.com/search\n",
      "城市: • 嘉兴, 网址: http://jiaxing.tianyancha.com/search\n",
      "城市: • 湖州, 网址: http://huzhou.tianyancha.com/search\n",
      "城市: • 绍兴, 网址: http://shaoxing.tianyancha.com/search\n",
      "城市: • 金华, 网址: http://jinhua.tianyancha.com/search\n",
      "城市: • 衢州, 网址: http://quzhou.tianyancha.com/search\n",
      "城市: • 舟山, 网址: http://zhoushan.tianyancha.com/search\n",
      "城市: • 台州, 网址: http://taizhou.tianyancha.com/search\n",
      "城市: • 丽水, 网址: http://lishui.tianyancha.com/search\n",
      "城市: • 合肥, 网址: http://hefei.tianyancha.com/search\n",
      "城市: • 芜湖, 网址: http://wuhu.tianyancha.com/search\n",
      "城市: • 蚌埠, 网址: http://bangbu.tianyancha.com/search\n",
      "城市: • 淮南, 网址: http://huainan.tianyancha.com/search\n",
      "城市: • 马鞍山, 网址: http://mas.tianyancha.com/search\n",
      "城市: • 淮北, 网址: http://huaibei.tianyancha.com/search\n",
      "城市: • 铜陵, 网址: http://tongling.tianyancha.com/search\n",
      "城市: • 安庆, 网址: http://anqing.tianyancha.com/search\n",
      "城市: • 黄山, 网址: http://huangshan.tianyancha.com/search\n",
      "城市: • 滁州, 网址: http://chuzhou.tianyancha.com/search\n",
      "城市: • 阜阳, 网址: http://fuyang.tianyancha.com/search\n",
      "城市: • 宿州, 网址: http://suzhou.tianyancha.com/search\n",
      "城市: • 六安, 网址: http://liuan.tianyancha.com/search\n",
      "城市: • 亳州, 网址: http://bozhou.tianyancha.com/search\n",
      "城市: • 池州, 网址: http://chizhou.tianyancha.com/search\n",
      "城市: • 宣城, 网址: http://xuancheng.tianyancha.com/search\n",
      "城市: • 福州, 网址: http://fuzhou.tianyancha.com/search\n",
      "城市: • 厦门, 网址: http://shamen.tianyancha.com/search\n",
      "城市: • 莆田, 网址: http://putian.tianyancha.com/search\n",
      "城市: • 三明, 网址: http://sanming.tianyancha.com/search\n",
      "城市: • 泉州, 网址: http://quanzhou.tianyancha.com/search\n",
      "城市: • 漳州, 网址: http://zhangzhou.tianyancha.com/search\n",
      "城市: • 南平, 网址: http://nanping.tianyancha.com/search\n",
      "城市: • 龙岩, 网址: http://longyan.tianyancha.com/search\n",
      "城市: • 宁德, 网址: http://ningde.tianyancha.com/search\n",
      "城市: • 南昌, 网址: http://nanchang.tianyancha.com/search\n",
      "城市: • 景德镇, 网址: http://jdz.tianyancha.com/search\n",
      "城市: • 萍乡, 网址: http://pingxiang.tianyancha.com/search\n",
      "城市: • 九江, 网址: http://jiujiang.tianyancha.com/search\n",
      "城市: • 新余, 网址: http://xinyu.tianyancha.com/search\n",
      "城市: • 鹰潭, 网址: http://yingtan.tianyancha.com/search\n",
      "城市: • 赣州, 网址: http://ganzhou.tianyancha.com/search\n",
      "城市: • 吉安, 网址: http://jian.tianyancha.com/search\n",
      "城市: • 宜春, 网址: http://ych.tianyancha.com/search\n",
      "城市: • 抚州, 网址: http://fuzhou.tianyancha.com/search\n",
      "城市: • 上饶, 网址: http://shangrao.tianyancha.com/search\n",
      "城市: • 济南, 网址: http://jinan.tianyancha.com/search\n",
      "城市: • 青岛, 网址: http://qingdao.tianyancha.com/search\n",
      "城市: • 淄博, 网址: http://zibo.tianyancha.com/search\n",
      "城市: • 枣庄, 网址: http://zaozhuang.tianyancha.com/search\n",
      "城市: • 东营, 网址: http://dongying.tianyancha.com/search\n",
      "城市: • 烟台, 网址: http://yantai.tianyancha.com/search\n",
      "城市: • 潍坊, 网址: http://weifang.tianyancha.com/search\n",
      "城市: • 济宁, 网址: http://jining.tianyancha.com/search\n",
      "城市: • 泰安, 网址: http://taian.tianyancha.com/search\n",
      "城市: • 威海, 网址: http://weihai.tianyancha.com/search\n",
      "城市: • 日照, 网址: http://rizhao.tianyancha.com/search\n",
      "城市: • 莱芜, 网址: http://laiwu.tianyancha.com/search\n",
      "城市: • 临沂, 网址: http://linyi.tianyancha.com/search\n",
      "城市: • 德州, 网址: http://dezhou.tianyancha.com/search\n",
      "城市: • 聊城, 网址: http://liaocheng.tianyancha.com/search\n",
      "城市: • 滨州, 网址: http://binzhou.tianyancha.com/search\n",
      "城市: • 菏泽, 网址: http://heze.tianyancha.com/search\n",
      "城市: • 郑州, 网址: http://zhengzhou.tianyancha.com/search\n",
      "城市: • 开封, 网址: http://kaifeng.tianyancha.com/search\n",
      "城市: • 洛阳, 网址: http://luoyang.tianyancha.com/search\n",
      "城市: • 平顶山, 网址: http://pds.tianyancha.com/search\n",
      "城市: • 安阳, 网址: http://anyang.tianyancha.com/search\n",
      "城市: • 鹤壁, 网址: http://hebi.tianyancha.com/search\n",
      "城市: • 新乡, 网址: http://xinxiang.tianyancha.com/search\n",
      "城市: • 焦作, 网址: http://jiaozuo.tianyancha.com/search\n",
      "城市: • 濮阳, 网址: http://puyang.tianyancha.com/search\n",
      "城市: • 许昌, 网址: http://xuchang.tianyancha.com/search\n",
      "城市: • 漯河, 网址: http://luohe.tianyancha.com/search\n",
      "城市: • 三门峡, 网址: http://smx.tianyancha.com/search\n",
      "城市: • 南阳, 网址: http://nanyang.tianyancha.com/search\n",
      "城市: • 商丘, 网址: http://shangqiu.tianyancha.com/search\n",
      "城市: • 信阳, 网址: http://xinyang.tianyancha.com/search\n",
      "城市: • 周口, 网址: http://zhoukou.tianyancha.com/search\n",
      "城市: • 驻马店, 网址: http://zmd.tianyancha.com/search\n",
      "城市: • 省直辖县级行政区划, 网址: http://henzx.tianyancha.com/search\n",
      "城市: • 武汉, 网址: http://wuhan.tianyancha.com/search\n",
      "城市: • 黄石, 网址: http://huangshi.tianyancha.com/search\n",
      "城市: • 十堰, 网址: http://shiyan.tianyancha.com/search\n",
      "城市: • 宜昌, 网址: http://yichang.tianyancha.com/search\n",
      "城市: • 襄阳, 网址: http://xiangyang.tianyancha.com/search\n",
      "城市: • 鄂州, 网址: http://ezhou.tianyancha.com/search\n",
      "城市: • 荆门, 网址: http://jingmen.tianyancha.com/search\n",
      "城市: • 孝感, 网址: http://xiaogan.tianyancha.com/search\n",
      "城市: • 荆州, 网址: http://jingzhou.tianyancha.com/search\n",
      "城市: • 黄冈, 网址: http://huanggang.tianyancha.com/search\n",
      "城市: • 咸宁, 网址: http://xianning.tianyancha.com/search\n",
      "城市: • 随州, 网址: http://suizhou.tianyancha.com/search\n",
      "城市: • 恩施土家族苗族自治州, 网址: http://estjz.tianyancha.com/search\n",
      "城市: • 省直辖县级行政区划, 网址: http://hubzx.tianyancha.com/search\n",
      "城市: • 长沙, 网址: http://zhangsha.tianyancha.com/search\n",
      "城市: • 株洲, 网址: http://zhuzhou.tianyancha.com/search\n",
      "城市: • 湘潭, 网址: http://xiangtan.tianyancha.com/search\n",
      "城市: • 衡阳, 网址: http://hengyang.tianyancha.com/search\n",
      "城市: • 邵阳, 网址: http://shaoyang.tianyancha.com/search\n",
      "城市: • 岳阳, 网址: http://yueyang.tianyancha.com/search\n",
      "城市: • 常德, 网址: http://changde.tianyancha.com/search\n",
      "城市: • 张家界, 网址: http://zjj.tianyancha.com/search\n",
      "城市: • 益阳, 网址: http://yiyang.tianyancha.com/search\n",
      "城市: • 郴州, 网址: http://chenzhou.tianyancha.com/search\n",
      "城市: • 永州, 网址: http://yongzhou.tianyancha.com/search\n",
      "城市: • 怀化, 网址: http://huaihua.tianyancha.com/search\n",
      "城市: • 娄底, 网址: http://loudi.tianyancha.com/search\n",
      "城市: • 湘西土家族苗族自治州, 网址: http://xxtjz.tianyancha.com/search\n",
      "城市: • 东莞, 网址: http://dongguan.tianyancha.com/search\n",
      "城市: • 中山, 网址: http://zhongshan.tianyancha.com/search\n",
      "城市: • 广州, 网址: http://guangzhou.tianyancha.com/search\n",
      "城市: • 韶关, 网址: http://shaoguan.tianyancha.com/search\n",
      "城市: • 深圳, 网址: http://shenzhen.tianyancha.com/search\n",
      "城市: • 珠海, 网址: http://zhuhai.tianyancha.com/search\n",
      "城市: • 汕头, 网址: http://shantou.tianyancha.com/search\n",
      "城市: • 佛山, 网址: http://foshan.tianyancha.com/search\n",
      "城市: • 江门, 网址: http://jiangmen.tianyancha.com/search\n",
      "城市: • 湛江, 网址: http://zhanjiang.tianyancha.com/search\n",
      "城市: • 茂名, 网址: http://maoming.tianyancha.com/search\n",
      "城市: • 肇庆, 网址: http://zhaoqing.tianyancha.com/search\n",
      "城市: • 惠州, 网址: http://huizhou.tianyancha.com/search\n",
      "城市: • 梅州, 网址: http://meizhou.tianyancha.com/search\n",
      "城市: • 汕尾, 网址: http://shanwei.tianyancha.com/search\n",
      "城市: • 河源, 网址: http://heyuan.tianyancha.com/search\n",
      "城市: • 阳江, 网址: http://yangjiang.tianyancha.com/search\n",
      "城市: • 清远, 网址: http://qingyuan.tianyancha.com/search\n",
      "城市: • 潮州, 网址: http://chaozhou.tianyancha.com/search\n",
      "城市: • 揭阳, 网址: http://jieyang.tianyancha.com/search\n",
      "城市: • 云浮, 网址: http://yunfu.tianyancha.com/search\n",
      "城市: • 南宁, 网址: http://nanning.tianyancha.com/search\n",
      "城市: • 柳州, 网址: http://liuzhou.tianyancha.com/search\n",
      "城市: • 桂林, 网址: http://guilin.tianyancha.com/search\n",
      "城市: • 梧州, 网址: http://wuzhou.tianyancha.com/search\n",
      "城市: • 北海, 网址: http://beihai.tianyancha.com/search\n",
      "城市: • 防城港, 网址: http://fcg.tianyancha.com/search\n",
      "城市: • 钦州, 网址: http://qinzhou.tianyancha.com/search\n",
      "城市: • 贵港, 网址: http://guigang.tianyancha.com/search\n",
      "城市: • 玉林, 网址: http://yulin.tianyancha.com/search\n",
      "城市: • 百色, 网址: http://baise.tianyancha.com/search\n",
      "城市: • 贺州, 网址: http://hezhou.tianyancha.com/search\n",
      "城市: • 河池, 网址: http://hechi.tianyancha.com/search\n",
      "城市: • 来宾, 网址: http://laibin.tianyancha.com/search\n",
      "城市: • 崇左, 网址: http://chongzuo.tianyancha.com/search\n",
      "城市: • 海口, 网址: http://haikou.tianyancha.com/search\n",
      "城市: • 三亚, 网址: http://sanya.tianyancha.com/search\n",
      "城市: • 省直辖县级行政区划, 网址: http://hanzx.tianyancha.com/search\n",
      "城市: • 成都, 网址: http://chengdou.tianyancha.com/search\n",
      "城市: • 自贡, 网址: http://zigong.tianyancha.com/search\n",
      "城市: • 攀枝花, 网址: http://pzh.tianyancha.com/search\n",
      "城市: • 泸州, 网址: http://luzhou.tianyancha.com/search\n",
      "城市: • 德阳, 网址: http://deyang.tianyancha.com/search\n",
      "城市: • 绵阳, 网址: http://mianyang.tianyancha.com/search\n",
      "城市: • 广元, 网址: http://guangyuan.tianyancha.com/search\n",
      "城市: • 遂宁, 网址: http://suining.tianyancha.com/search\n",
      "城市: • 内江, 网址: http://neijiang.tianyancha.com/search\n",
      "城市: • 乐山, 网址: http://leshan.tianyancha.com/search\n",
      "城市: • 南充, 网址: http://nanchong.tianyancha.com/search\n",
      "城市: • 眉山, 网址: http://meishan.tianyancha.com/search\n",
      "城市: • 宜宾, 网址: http://yibin.tianyancha.com/search\n",
      "城市: • 广安, 网址: http://guangan.tianyancha.com/search\n",
      "城市: • 达州, 网址: http://dazhou.tianyancha.com/search\n",
      "城市: • 雅安, 网址: http://yaan.tianyancha.com/search\n",
      "城市: • 巴中, 网址: http://bazhong.tianyancha.com/search\n",
      "城市: • 资阳, 网址: http://ziyang.tianyancha.com/search\n",
      "城市: • 阿坝藏族羌族自治州, 网址: http://abzzqz.tianyancha.com/search\n",
      "城市: • 甘孜藏族自治州, 网址: http://gzzz.tianyancha.com/search\n",
      "城市: • 凉山彝族自治州, 网址: http://lsyz.tianyancha.com/search\n",
      "城市: • 贵阳, 网址: http://guiyang.tianyancha.com/search\n",
      "城市: • 六盘水, 网址: http://lps.tianyancha.com/search\n",
      "城市: • 遵义, 网址: http://zunyi.tianyancha.com/search\n",
      "城市: • 安顺, 网址: http://anshun.tianyancha.com/search\n",
      "城市: • 毕节, 网址: http://bijie.tianyancha.com/search\n",
      "城市: • 铜仁, 网址: http://tongren.tianyancha.com/search\n",
      "城市: • 黔西南布依族苗族自治州, 网址: http://qxnbyz.tianyancha.com/search\n",
      "城市: • 黔东南州, 网址: http://qdnz.tianyancha.com/search\n",
      "城市: • 黔南布依族苗族自治州, 网址: http://qnbyz.tianyancha.com/search\n",
      "城市: • 昆明, 网址: http://kunming.tianyancha.com/search\n",
      "城市: • 曲靖, 网址: http://qujing.tianyancha.com/search\n",
      "城市: • 玉溪, 网址: http://yuxi.tianyancha.com/search\n",
      "城市: • 保山, 网址: http://baoshan.tianyancha.com/search\n",
      "城市: • 昭通, 网址: http://zhaotong.tianyancha.com/search\n",
      "城市: • 丽江, 网址: http://lijiang.tianyancha.com/search\n",
      "城市: • 普洱, 网址: http://puer.tianyancha.com/search\n",
      "城市: • 临沧, 网址: http://lincang.tianyancha.com/search\n",
      "城市: • 楚雄彝族自治州, 网址: http://cxyz.tianyancha.com/search\n",
      "城市: • 红河哈尼族彝族自治州, 网址: http://hhhnzyz.tianyancha.com/search\n",
      "城市: • 文山壮族苗族自治州, 网址: http://wszzmz.tianyancha.com/search\n",
      "城市: • 西双版纳傣族自治州, 网址: http://xsbndz.tianyancha.com/search\n",
      "城市: • 大理白族自治州, 网址: http://dlbz.tianyancha.com/search\n",
      "城市: • 德宏傣族景颇族自治州, 网址: http://dhdzjpz.tianyancha.com/search\n",
      "城市: • 怒江傈僳族自治州, 网址: http://njlsz.tianyancha.com/search\n",
      "城市: • 迪庆藏族自治州, 网址: http://dqzz.tianyancha.com/search\n",
      "城市: • 拉萨, 网址: http://lasa.tianyancha.com/search\n",
      "城市: • 日喀则, 网址: http://rkz.tianyancha.com/search\n",
      "城市: • 昌都地区, 网址: http://cddq.tianyancha.com/search\n",
      "城市: • 山南地区, 网址: http://sndq.tianyancha.com/search\n",
      "城市: • 那曲地区, 网址: http://nqdq.tianyancha.com/search\n",
      "城市: • 阿里地区, 网址: http://aldq.tianyancha.com/search\n",
      "城市: • 林芝地区, 网址: http://lzdq.tianyancha.com/search\n",
      "城市: • 西安, 网址: http://xian.tianyancha.com/search\n",
      "城市: • 铜川, 网址: http://tongchuan.tianyancha.com/search\n",
      "城市: • 宝鸡, 网址: http://baoji.tianyancha.com/search\n",
      "城市: • 咸阳, 网址: http://xianyang.tianyancha.com/search\n",
      "城市: • 渭南, 网址: http://weinan.tianyancha.com/search\n",
      "城市: • 延安, 网址: http://yanan.tianyancha.com/search\n",
      "城市: • 汉中, 网址: http://hanzhong.tianyancha.com/search\n",
      "城市: • 榆林, 网址: http://yulin.tianyancha.com/search\n",
      "城市: • 安康, 网址: http://ankang.tianyancha.com/search\n",
      "城市: • 商洛, 网址: http://shangluo.tianyancha.com/search\n",
      "城市: • 嘉峪关, 网址: http://jyg.tianyancha.com/search\n",
      "城市: • 兰州, 网址: http://lanzhou.tianyancha.com/search\n",
      "城市: • 金昌, 网址: http://jinchang.tianyancha.com/search\n",
      "城市: • 白银, 网址: http://baiyin.tianyancha.com/search\n",
      "城市: • 天水, 网址: http://tianshui.tianyancha.com/search\n",
      "城市: • 武威, 网址: http://wuwei.tianyancha.com/search\n",
      "城市: • 张掖, 网址: http://zhangye.tianyancha.com/search\n",
      "城市: • 平凉, 网址: http://pingliang.tianyancha.com/search\n",
      "城市: • 酒泉, 网址: http://jiuquan.tianyancha.com/search\n",
      "城市: • 庆阳, 网址: http://qingyang.tianyancha.com/search\n",
      "城市: • 定西, 网址: http://dingxi.tianyancha.com/search\n",
      "城市: • 陇南, 网址: http://longnan.tianyancha.com/search\n",
      "城市: • 临夏回族自治州, 网址: http://lxhz.tianyancha.com/search\n",
      "城市: • 甘南藏族自治州, 网址: http://gnzz.tianyancha.com/search\n",
      "城市: • 西宁, 网址: http://xining.tianyancha.com/search\n",
      "城市: • 海东, 网址: http://haidong.tianyancha.com/search\n",
      "城市: • 海北藏族自治州, 网址: http://hbzz.tianyancha.com/search\n",
      "城市: • 黄南藏族自治州, 网址: http://hnzz.tianyancha.com/search\n",
      "城市: • 海南藏族自治州, 网址: http://hnzz.tianyancha.com/search\n",
      "城市: • 果洛藏族自治州, 网址: http://glzz.tianyancha.com/search\n",
      "城市: • 玉树藏族自治州, 网址: http://yszz.tianyancha.com/search\n",
      "城市: • 海西蒙古族藏族自治州, 网址: http://hxmgz.tianyancha.com/search\n",
      "城市: • 银川, 网址: http://yinchuan.tianyancha.com/search\n",
      "城市: • 石嘴山, 网址: http://szs.tianyancha.com/search\n",
      "城市: • 吴忠, 网址: http://wuzhong.tianyancha.com/search\n",
      "城市: • 固原, 网址: http://guyuan.tianyancha.com/search\n",
      "城市: • 中卫, 网址: http://zhongwei.tianyancha.com/search\n",
      "城市: • 乌鲁木齐, 网址: http://wlmq.tianyancha.com/search\n",
      "城市: • 克拉玛依, 网址: http://klmy.tianyancha.com/search\n",
      "城市: • 吐鲁番地区, 网址: http://tlfdq.tianyancha.com/search\n",
      "城市: • 哈密地区, 网址: http://hmdq.tianyancha.com/search\n",
      "城市: • 昌吉回族自治州, 网址: http://cjhz.tianyancha.com/search\n",
      "城市: • 博尔塔拉蒙古自治州, 网址: http://betlmg.tianyancha.com/search\n",
      "城市: • 巴音郭楞蒙古自治州, 网址: http://byglmg.tianyancha.com/search\n",
      "城市: • 阿克苏地区, 网址: http://aksdq.tianyancha.com/search\n",
      "城市: • 克孜勒苏柯尔克孜自治州, 网址: http://kzlskek.tianyancha.com/search\n",
      "城市: • 喀什地区, 网址: http://ksdq.tianyancha.com/search\n",
      "城市: • 和田地区, 网址: http://htdq.tianyancha.com/search\n",
      "城市: • 伊犁哈萨克自治州, 网址: http://ylhsk.tianyancha.com/search\n",
      "城市: • 塔城地区, 网址: http://tcdq.tianyancha.com/search\n",
      "城市: • 阿勒泰地区, 网址: http://altdq.tianyancha.com/search\n",
      "城市: • 自治区直辖县级行政区划, 网址: http://xjzx.tianyancha.com/search\n"
     ]
    }
   ],
   "source": [
    "for i in data:\n",
    "    print u'城市: %s, 网址: %s' %(i.text, i.get_attribute('href'))"
   ]
  },
  {
   "cell_type": "code",
   "execution_count": null,
   "metadata": {
    "collapsed": true
   },
   "outputs": [],
   "source": []
  }
 ],
 "metadata": {
  "kernelspec": {
   "display_name": "Python 2",
   "language": "python",
   "name": "python2"
  },
  "language_info": {
   "codemirror_mode": {
    "name": "ipython",
    "version": 2
   },
   "file_extension": ".py",
   "mimetype": "text/x-python",
   "name": "python",
   "nbconvert_exporter": "python",
   "pygments_lexer": "ipython2",
   "version": "2.7.13"
  }
 },
 "nbformat": 4,
 "nbformat_minor": 2
}
