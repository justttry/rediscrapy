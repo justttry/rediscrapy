{
 "cells": [
  {
   "cell_type": "code",
   "execution_count": 1,
   "metadata": {
    "collapsed": true
   },
   "outputs": [],
   "source": [
    "from bs4 import BeautifulSoup\n",
    "from urllib2 import Request\n",
    "from selenium import webdriver"
   ]
  },
  {
   "cell_type": "code",
   "execution_count": 2,
   "metadata": {
    "collapsed": true
   },
   "outputs": [],
   "source": [
    "url = 'http://bj.tianyancha.com/search'"
   ]
  },
  {
   "cell_type": "code",
   "execution_count": 3,
   "metadata": {
    "collapsed": false
   },
   "outputs": [],
   "source": [
    "driver = webdriver.PhantomJS(executable_path=r\"C:\\Program Files\\phantomjs-2.1.1-windows\\bin\\phantomjs.exe\")\n",
    "#data = urllib2.urlopen(urllib2.Request(url)).read()"
   ]
  },
  {
   "cell_type": "code",
   "execution_count": 4,
   "metadata": {
    "collapsed": true
   },
   "outputs": [],
   "source": [
    "driver.get(url)"
   ]
  },
  {
   "cell_type": "code",
   "execution_count": 7,
   "metadata": {
    "collapsed": false
   },
   "outputs": [
    {
     "ename": "NoSuchElementException",
     "evalue": "Message: {\"errorMessage\":\"Unable to find element with id 'div'\",\"request\":{\"headers\":{\"Accept\":\"application/json\",\"Accept-Encoding\":\"identity\",\"Connection\":\"close\",\"Content-Length\":\"84\",\"Content-Type\":\"application/json;charset=UTF-8\",\"Host\":\"127.0.0.1:60040\",\"User-Agent\":\"Python-urllib/2.7\"},\"httpVersion\":\"1.1\",\"method\":\"POST\",\"post\":\"{\\\"using\\\": \\\"id\\\", \\\"sessionId\\\": \\\"8e8f15e0-12d7-11e7-9e86-bd53762a8d13\\\", \\\"value\\\": \\\"div\\\"}\",\"url\":\"/element\",\"urlParsed\":{\"anchor\":\"\",\"query\":\"\",\"file\":\"element\",\"directory\":\"/\",\"path\":\"/element\",\"relative\":\"/element\",\"port\":\"\",\"host\":\"\",\"password\":\"\",\"user\":\"\",\"userInfo\":\"\",\"authority\":\"\",\"protocol\":\"\",\"source\":\"/element\",\"queryKey\":{},\"chunks\":[\"element\"]},\"urlOriginal\":\"/session/8e8f15e0-12d7-11e7-9e86-bd53762a8d13/element\"}}\nScreenshot: available via screen\n",
     "output_type": "error",
     "traceback": [
      "\u001b[1;31m---------------------------------------------------------------------------\u001b[0m",
      "\u001b[1;31mNoSuchElementException\u001b[0m                    Traceback (most recent call last)",
      "\u001b[1;32m<ipython-input-7-c8eb3103f9ea>\u001b[0m in \u001b[0;36m<module>\u001b[1;34m()\u001b[0m\n\u001b[1;32m----> 1\u001b[1;33m \u001b[0mdata\u001b[0m \u001b[1;33m=\u001b[0m \u001b[0mdriver\u001b[0m\u001b[1;33m.\u001b[0m\u001b[0mfind_element_by_id\u001b[0m\u001b[1;33m(\u001b[0m\u001b[1;34m\"div\"\u001b[0m\u001b[1;33m)\u001b[0m\u001b[1;33m.\u001b[0m\u001b[0mtext\u001b[0m\u001b[1;33m\u001b[0m\u001b[0m\n\u001b[0m",
      "\u001b[1;32mD:\\Anaconda2\\lib\\site-packages\\selenium\\webdriver\\remote\\webdriver.pyc\u001b[0m in \u001b[0;36mfind_element_by_id\u001b[1;34m(self, id_)\u001b[0m\n\u001b[0;32m    269\u001b[0m             \u001b[0mdriver\u001b[0m\u001b[1;33m.\u001b[0m\u001b[0mfind_element_by_id\u001b[0m\u001b[1;33m(\u001b[0m\u001b[1;34m'foo'\u001b[0m\u001b[1;33m)\u001b[0m\u001b[1;33m\u001b[0m\u001b[0m\n\u001b[0;32m    270\u001b[0m         \"\"\"\n\u001b[1;32m--> 271\u001b[1;33m         \u001b[1;32mreturn\u001b[0m \u001b[0mself\u001b[0m\u001b[1;33m.\u001b[0m\u001b[0mfind_element\u001b[0m\u001b[1;33m(\u001b[0m\u001b[0mby\u001b[0m\u001b[1;33m=\u001b[0m\u001b[0mBy\u001b[0m\u001b[1;33m.\u001b[0m\u001b[0mID\u001b[0m\u001b[1;33m,\u001b[0m \u001b[0mvalue\u001b[0m\u001b[1;33m=\u001b[0m\u001b[0mid_\u001b[0m\u001b[1;33m)\u001b[0m\u001b[1;33m\u001b[0m\u001b[0m\n\u001b[0m\u001b[0;32m    272\u001b[0m \u001b[1;33m\u001b[0m\u001b[0m\n\u001b[0;32m    273\u001b[0m     \u001b[1;32mdef\u001b[0m \u001b[0mfind_elements_by_id\u001b[0m\u001b[1;33m(\u001b[0m\u001b[0mself\u001b[0m\u001b[1;33m,\u001b[0m \u001b[0mid_\u001b[0m\u001b[1;33m)\u001b[0m\u001b[1;33m:\u001b[0m\u001b[1;33m\u001b[0m\u001b[0m\n",
      "\u001b[1;32mD:\\Anaconda2\\lib\\site-packages\\selenium\\webdriver\\remote\\webdriver.pyc\u001b[0m in \u001b[0;36mfind_element\u001b[1;34m(self, by, value)\u001b[0m\n\u001b[0;32m    754\u001b[0m         return self.execute(Command.FIND_ELEMENT, {\n\u001b[0;32m    755\u001b[0m             \u001b[1;34m'using'\u001b[0m\u001b[1;33m:\u001b[0m \u001b[0mby\u001b[0m\u001b[1;33m,\u001b[0m\u001b[1;33m\u001b[0m\u001b[0m\n\u001b[1;32m--> 756\u001b[1;33m             'value': value})['value']\n\u001b[0m\u001b[0;32m    757\u001b[0m \u001b[1;33m\u001b[0m\u001b[0m\n\u001b[0;32m    758\u001b[0m     \u001b[1;32mdef\u001b[0m \u001b[0mfind_elements\u001b[0m\u001b[1;33m(\u001b[0m\u001b[0mself\u001b[0m\u001b[1;33m,\u001b[0m \u001b[0mby\u001b[0m\u001b[1;33m=\u001b[0m\u001b[0mBy\u001b[0m\u001b[1;33m.\u001b[0m\u001b[0mID\u001b[0m\u001b[1;33m,\u001b[0m \u001b[0mvalue\u001b[0m\u001b[1;33m=\u001b[0m\u001b[0mNone\u001b[0m\u001b[1;33m)\u001b[0m\u001b[1;33m:\u001b[0m\u001b[1;33m\u001b[0m\u001b[0m\n",
      "\u001b[1;32mD:\\Anaconda2\\lib\\site-packages\\selenium\\webdriver\\remote\\webdriver.pyc\u001b[0m in \u001b[0;36mexecute\u001b[1;34m(self, driver_command, params)\u001b[0m\n\u001b[0;32m    236\u001b[0m         \u001b[0mresponse\u001b[0m \u001b[1;33m=\u001b[0m \u001b[0mself\u001b[0m\u001b[1;33m.\u001b[0m\u001b[0mcommand_executor\u001b[0m\u001b[1;33m.\u001b[0m\u001b[0mexecute\u001b[0m\u001b[1;33m(\u001b[0m\u001b[0mdriver_command\u001b[0m\u001b[1;33m,\u001b[0m \u001b[0mparams\u001b[0m\u001b[1;33m)\u001b[0m\u001b[1;33m\u001b[0m\u001b[0m\n\u001b[0;32m    237\u001b[0m         \u001b[1;32mif\u001b[0m \u001b[0mresponse\u001b[0m\u001b[1;33m:\u001b[0m\u001b[1;33m\u001b[0m\u001b[0m\n\u001b[1;32m--> 238\u001b[1;33m             \u001b[0mself\u001b[0m\u001b[1;33m.\u001b[0m\u001b[0merror_handler\u001b[0m\u001b[1;33m.\u001b[0m\u001b[0mcheck_response\u001b[0m\u001b[1;33m(\u001b[0m\u001b[0mresponse\u001b[0m\u001b[1;33m)\u001b[0m\u001b[1;33m\u001b[0m\u001b[0m\n\u001b[0m\u001b[0;32m    239\u001b[0m             response['value'] = self._unwrap_value(\n\u001b[0;32m    240\u001b[0m                 response.get('value', None))\n",
      "\u001b[1;32mD:\\Anaconda2\\lib\\site-packages\\selenium\\webdriver\\remote\\errorhandler.pyc\u001b[0m in \u001b[0;36mcheck_response\u001b[1;34m(self, response)\u001b[0m\n\u001b[0;32m    191\u001b[0m         \u001b[1;32melif\u001b[0m \u001b[0mexception_class\u001b[0m \u001b[1;33m==\u001b[0m \u001b[0mUnexpectedAlertPresentException\u001b[0m \u001b[1;32mand\u001b[0m \u001b[1;34m'alert'\u001b[0m \u001b[1;32min\u001b[0m \u001b[0mvalue\u001b[0m\u001b[1;33m:\u001b[0m\u001b[1;33m\u001b[0m\u001b[0m\n\u001b[0;32m    192\u001b[0m             \u001b[1;32mraise\u001b[0m \u001b[0mexception_class\u001b[0m\u001b[1;33m(\u001b[0m\u001b[0mmessage\u001b[0m\u001b[1;33m,\u001b[0m \u001b[0mscreen\u001b[0m\u001b[1;33m,\u001b[0m \u001b[0mstacktrace\u001b[0m\u001b[1;33m,\u001b[0m \u001b[0mvalue\u001b[0m\u001b[1;33m[\u001b[0m\u001b[1;34m'alert'\u001b[0m\u001b[1;33m]\u001b[0m\u001b[1;33m.\u001b[0m\u001b[0mget\u001b[0m\u001b[1;33m(\u001b[0m\u001b[1;34m'text'\u001b[0m\u001b[1;33m)\u001b[0m\u001b[1;33m)\u001b[0m\u001b[1;33m\u001b[0m\u001b[0m\n\u001b[1;32m--> 193\u001b[1;33m         \u001b[1;32mraise\u001b[0m \u001b[0mexception_class\u001b[0m\u001b[1;33m(\u001b[0m\u001b[0mmessage\u001b[0m\u001b[1;33m,\u001b[0m \u001b[0mscreen\u001b[0m\u001b[1;33m,\u001b[0m \u001b[0mstacktrace\u001b[0m\u001b[1;33m)\u001b[0m\u001b[1;33m\u001b[0m\u001b[0m\n\u001b[0m\u001b[0;32m    194\u001b[0m \u001b[1;33m\u001b[0m\u001b[0m\n\u001b[0;32m    195\u001b[0m     \u001b[1;32mdef\u001b[0m \u001b[0m_value_or_default\u001b[0m\u001b[1;33m(\u001b[0m\u001b[0mself\u001b[0m\u001b[1;33m,\u001b[0m \u001b[0mobj\u001b[0m\u001b[1;33m,\u001b[0m \u001b[0mkey\u001b[0m\u001b[1;33m,\u001b[0m \u001b[0mdefault\u001b[0m\u001b[1;33m)\u001b[0m\u001b[1;33m:\u001b[0m\u001b[1;33m\u001b[0m\u001b[0m\n",
      "\u001b[1;31mNoSuchElementException\u001b[0m: Message: {\"errorMessage\":\"Unable to find element with id 'div'\",\"request\":{\"headers\":{\"Accept\":\"application/json\",\"Accept-Encoding\":\"identity\",\"Connection\":\"close\",\"Content-Length\":\"84\",\"Content-Type\":\"application/json;charset=UTF-8\",\"Host\":\"127.0.0.1:60040\",\"User-Agent\":\"Python-urllib/2.7\"},\"httpVersion\":\"1.1\",\"method\":\"POST\",\"post\":\"{\\\"using\\\": \\\"id\\\", \\\"sessionId\\\": \\\"8e8f15e0-12d7-11e7-9e86-bd53762a8d13\\\", \\\"value\\\": \\\"div\\\"}\",\"url\":\"/element\",\"urlParsed\":{\"anchor\":\"\",\"query\":\"\",\"file\":\"element\",\"directory\":\"/\",\"path\":\"/element\",\"relative\":\"/element\",\"port\":\"\",\"host\":\"\",\"password\":\"\",\"user\":\"\",\"userInfo\":\"\",\"authority\":\"\",\"protocol\":\"\",\"source\":\"/element\",\"queryKey\":{},\"chunks\":[\"element\"]},\"urlOriginal\":\"/session/8e8f15e0-12d7-11e7-9e86-bd53762a8d13/element\"}}\nScreenshot: available via screen\n"
     ]
    }
   ],
   "source": [
    "data = driver.find_element_by_id(\"div\").text"
   ]
  },
  {
   "cell_type": "code",
   "execution_count": 69,
   "metadata": {
    "collapsed": false
   },
   "outputs": [
    {
     "name": "stdout",
     "output_type": "stream",
     "text": [
      "<!doctype html ><html xmlns:ng=http://angularjs.org id=ng-app class=ng-app:app ng-app=app><head><meta charset=utf-8><meta http-equiv=X-UA-Compatible content=\"IE=edge,chrome=1\"><title ng-bind-html=\"title ? title:'企业注册信息查询_企业工商信息查询_企业信用信息查询平台_发现人与企业关系的平台-天眼查'\">企业注册信息查询_企业工商信息查询_企业信用信息查询平台_发现人与企业关系的平台-天眼查</title><meta http-equiv=pragma content=no-cache><meta http-equiv=cache-control content=no-cache><meta http-equiv=expires content=0><meta name=description content=\"{{description?description:'天眼查是一款服务于个人的企业工商数据信息查询系统，为您提供企业注册信息查询、企业工商信息查询、企业信用查询、企业信息查询等相关信息查询，帮助您及时全面了解企业经营和人员投资状况。查询更多企业信息就到天眼查官网！'}}\"><meta name=keywords content=\"{{keywords?keywords:'企业注册信息查询,企业工商信息查询,企业信用查询,企业信息查询'}}\"><meta name=viewport ng-attr-content=\"{{isPCClient?'noname':'width=device-width, initial-scale=1, maximum-scale=1, user-scalable=no'}}\" charset=utf-8><meta name=fragment content=!><base href=/ ><!--[if lt IE 8]>\n",
      "    <script src=\"http://cache.tianyancha.com/js/update-browser.js\"></script>\n",
      "    <![endif]--><link rel=stylesheet href=http://static.tianyancha.com/wap/css/font-awesome.min.css><link rel=stylesheet href=http://static.tianyancha.com/wap/css/bootstrap.css><link rel=stylesheet href=http://static.tianyancha.com/wap/resources/styles/app-a1c20ab368.css><style type=text/css>[ng\\:cloak], [ng-cloak], [data-ng-cloak], [x-ng-cloak], .ng-cloak, .x-ng-cloak, .ng-hide {\n",
      "            display: none !important;\n",
      "        }\n",
      "\n",
      "        ng\\:form {\n",
      "            display: block;\n",
      "        }\n",
      "\n",
      "        .ng-animate-start {\n",
      "            clip: rect(0, auto, auto, 0);\n",
      "            -ms-zoom: 1.0001;\n",
      "        }\n",
      "\n",
      "        .ng-animate-active {\n",
      "            clip: rect(-1px, auto, auto, 0);\n",
      "            -ms-zoom: 1;\n",
      "        }</style><!--[if lt IE 9]>\n",
      "    <link rel=\"stylesheet\" href=\"resources/css/ie8-style.scss\">\n",
      "    <script src=\"http://static.tianyancha.com/wap/js/respond.js\"></script>\n",
      "    <![endif]--><script>(function () {\n",
      "            var method;\n",
      "            var noop = function () {\n",
      "            };\n",
      "            var methods = [\n",
      "                'assert', 'clear', 'count', 'debug', 'dir', 'dirxml', 'error',\n",
      "                'exception', 'group', 'groupCollapsed', 'groupEnd', 'info', 'log',\n",
      "                'markTimeline', 'profile', 'profileEnd', 'table', 'time', 'timeEnd',\n",
      "                'timeline', 'timelineEnd', 'timeStamp', 'trace', 'warn'\n",
      "            ];\n",
      "            var length = methods.length;\n",
      "            var console = (window.console = window.console || {});\n",
      "\n",
      "            while (length--) {\n",
      "                method = methods[length];\n",
      "\n",
      "                // Only stub undefined methods.\n",
      "                if (!console[method]) {\n",
      "                    console[method] = noop;\n",
      "                }\n",
      "            }\n",
      "            CacheStoarge = function CacheStoarge() {\n",
      "                var _bb = [];\n",
      "                return {\n",
      "                    _tt: function (bbV, bbE, bbX) {\n",
      "                        bbX ? _bb.push(bbX) : _bb[bbV].push(bbE);\n",
      "                    },\n",
      "                    _ff: function (ii) {\n",
      "                        //console.log(_bb);\n",
      "                        return _bb[ii];\n",
      "                    }\n",
      "                };\n",
      "            };\n",
      "            DOMImplementaiton = CacheStoarge();\n",
      "        }());</script></head><body ng-class=\"isFromMac ? '':'windows-modal'\"><div id=loading class=loading loading></div><div id=ng-view ng-view></div><div ng-cloak ng-controller=bannerCtrl><div ng-cloak ng-if=isPCClient class=bottom-banner><div class=bottom-banner-body2 ng-if=showBanner><div style=\"position: absolute;top: 0;bottom: 0\"><img src=http://static.tianyancha.com/wap/images/left_bg2017.png alt=\"\"></div><div class=\"bottom-banner-box2 company_container\"><img class=gt_global height=70px src=\"http://static.tianyancha.com/wap/images/banner_title2017.png?_v=687977737780-7669-7769-7884-657384797832\"><div class=code_box><img class=gt_global src=\"http://static.tianyancha.com/wap/images/download_footerV5.png?_v=613267656772-6983-8479-6582-716940415932\" width=102px></div><img class=close src=\"http://static.tianyancha.com/wap/images/banner_06.png?_v=613267656772-6983-8479-6582-716940415932\" ng-click=ctrlBanner(false);> <img class=describe height=70px style=\"opacity: 0\" src=\"http://static.tianyancha.com/wap/images/hintV3.png?_v=613267656772-6983-8479-6582-716940415932\"> <img src=http://static.tianyancha.com/wap/images/right_bg2017.png style=\"position: absolute;right: 16px\" alt=\"\"></div></div><img class=bottom-banner-min style=z-index:200 ng-if=isPCClient ng-show=!showBanner alt=app下载 src=http://static.tianyancha.com/wap/images/left_banner2017.png ng-click=ctrlBanner(true);></div><div ng-show=(!isPCClient&&!isTYCClient&&!isWebAppClient)&&!showBdBanner><div ng-cloak ng-show=!showBannerMobile style=\"position: fixed;left: 0;bottom:90px;z-index: 400\" ng-click=closeClick(showBannerMobile);><img style=\"width: 40px\" src=http://static.tianyancha.com/wap/images/mainV2_left2.png alt=下载天眼查专业版APP></div><div class=bottom-banner-mobile ng-cloak ng-show=showBannerMobile><!--banner_wapV6--> <img style=display:none class=\"logo download_global\" alt=下载天眼查专业版APP ng-click=\"appDownload();bEvent('wapDownload','click');\" src=\"http://static.tianyancha.com/wap/images/ny_wap_banner.png?_v=7d49moi5kqncs6bjyxlav3tuh-rz207gp8f1we\"> <img ng-click=appDownload(); class=\"download_global ml10\" style=\"max-height: 90%;max-width: 80%\" alt=下载天眼查专业版APP src=\"http://static.tianyancha.com/wap/images/WAP_banner2017.png?_v=87-gx65nuqzwtm0hoypifks9lr12v4e8cbadj3\"> <span style=\"display: none\"><div ng-click=appDownload();><img class=download_global src=\"http://static.tianyancha.com/wap/images/mainV2_download.png?_v=91t8zofl52yq9pgrxesd4nbuamchj3vi0-w7k6\" alt=下载天眼查专业版BtnAPP></div></span><img class=close src=http://static.tianyancha.com/wap/images/wap_delete_nav.png ng-click=closeClick(showBannerMobile); alt=关闭></div></div><div ng-show=(!isPCClient&&!isTYCClient&&!isWebAppClient)&&showBdBanner class=position-fixed style=\"bottom:0;width: 100%;z-index: 40000\"><div ng-cloak ng-show=!showBannerMobile style=\"position: fixed;left: 0;bottom:90px;z-index: 400\" ng-click=closeClick(showBannerMobile);><img style=\"width: 40px\" src=http://static.tianyancha.com/wap/images/mainV2_left2.png alt=下载天眼查专业版APP></div><div ng-show=showBannerMobile><a href=\"http://app.tianyancha.com/tyc/download?from=bd\" style=\"display: block\"><img style=\"width: 100%\" src=http://static.tianyancha.com/wap/images/smsBanner1.png alt=下载app> </a><img src=http://static.tianyancha.com/wap/images/banner_06.png alt=close ng-click=closeClick(showBannerMobile); style=\"position: absolute;\n",
      "            top: 10px;\n",
      "            left: 10px;\n",
      "            width: 15px\"></div></div></div><script>var gdt_tracker = gdt_tracker || [];\n",
      "    gdt_tracker.push([\"set_source_id\", \"33937\"]);\n",
      "    (function () {\n",
      "        var userAgent = navigator.userAgent;\n",
      "        if (userAgent.indexOf('ignore') < 0) {\n",
      "            var doc = document, h = doc.getElementsByTagName(\"head\")[0], s = doc.createElement(\"script\");\n",
      "            s.async = true;\n",
      "            s.src = \"http://qzs.qq.com/qzone/biz/res/gt.js\";\n",
      "            h && h.insertBefore(s, h.firstChild)\n",
      "        }\n",
      "    })();</script><script>(function(){\n",
      "   var src = (document.location.protocol == \"http:\") ? \"http://js.passport.qihucdn.com/11.0.1.js?ab4dc628c152a54cde679c836d41c229\":\"https://jspassport.ssl.qhimg.com/11.0.1.js?ab4dc628c152a54cde679c836d41c229\";\n",
      "   document.write('<script src=\"' + src + '\" id=\"sozz\"><\\/script>');\n",
      "})();</script><script>var _hmt = _hmt || [];\n",
      "    (function () {\n",
      "        var userAgent = navigator.userAgent;\n",
      "        if (userAgent.indexOf('ignore') < 0) {\n",
      "            var hm = document.createElement(\"script\");\n",
      "            hm.src = \"//hm.baidu.com/hm.js?e92c8d65d92d534b0fc290df538b4758\";\n",
      "            var s = document.getElementsByTagName(\"script\")[0];\n",
      "            s.parentNode.insertBefore(hm, s);\n",
      "        }\n",
      "    })();</script><!-- <script>\n",
      "var _hmt = _hmt || [];\n",
      "(function() {\n",
      "  var hm = document.createElement(\"script\");\n",
      "  hm.src = \"//hm.baidu.com/hm.js?9c350b9e33b321dffebc9cc49db07828\";\n",
      "  var s = document.getElementsByTagName(\"script\")[0];\n",
      "  s.parentNode.insertBefore(hm, s);\n",
      "})();\n",
      "</script> --><!-- Piwik --><script type=text/javascript>var _paq = _paq || [];\n",
      "    _paq.push(['trackPageView']);\n",
      "    _paq.push(['enableLinkTracking', true]);\n",
      "    (function () {\n",
      "        var u = \"//www.tianyancha.com/piwik/\";\n",
      "        _paq.push(['setTrackerUrl', u + 'piwik.php']);\n",
      "        _paq.push(['setSiteId', 1]);\n",
      "        var d = document, g = d.createElement('script'), s = d.getElementsByTagName('script')[0];\n",
      "        g.type = 'text/javascript';\n",
      "        g.async = true;\n",
      "        g.defer = true;\n",
      "        g.src = u + 'piwik.js';\n",
      "        s.parentNode.insertBefore(g, s);\n",
      "    })();</script><noscript><p><img src=\"//www.tianyancha.com/piwik/piwik.php?idsite=1\" style=border:0 alt=\"\"></p></noscript><script src=http://static.tianyancha.com/wap/resources/scripts/app-df6ee61e0b.js></script></body></html>\n"
     ]
    }
   ],
   "source": [
    "print data"
   ]
  },
  {
   "cell_type": "code",
   "execution_count": 49,
   "metadata": {
    "collapsed": false
   },
   "outputs": [],
   "source": [
    "soup = BeautifulSoup(data)"
   ]
  },
  {
   "cell_type": "code",
   "execution_count": 50,
   "metadata": {
    "collapsed": false
   },
   "outputs": [
    {
     "name": "stdout",
     "output_type": "stream",
     "text": [
      "<div class=\"loading\" id=\"loading\" loading=\"\"></div>\n",
      "<div id=\"ng-view\" ng-view=\"\"></div>\n",
      "<div ng-cloak=\"\" ng-controller=\"bannerCtrl\"><div class=\"bottom-banner\" ng-cloak=\"\" ng-if=\"isPCClient\"><div class=\"bottom-banner-body2\" ng-if=\"showBanner\"><div style=\"position: absolute;top: 0;bottom: 0\"><img alt=\"\" src=\"http://static.tianyancha.com/wap/images/left_bg2017.png\"/></div><div class=\"bottom-banner-box2 company_container\"><img class=\"gt_global\" height=\"70px\" src=\"http://static.tianyancha.com/wap/images/banner_title2017.png?_v=687977737780-7669-7769-7884-657384797832\"/><div class=\"code_box\"><img class=\"gt_global\" src=\"http://static.tianyancha.com/wap/images/download_footerV5.png?_v=613267656772-6983-8479-6582-716940415932\" width=\"102px\"/></div><img class=\"close\" ng-click=\"ctrlBanner(false);\" src=\"http://static.tianyancha.com/wap/images/banner_06.png?_v=613267656772-6983-8479-6582-716940415932\"/> <img class=\"describe\" height=\"70px\" src=\"http://static.tianyancha.com/wap/images/hintV3.png?_v=613267656772-6983-8479-6582-716940415932\" style=\"opacity: 0\"/> <img alt=\"\" src=\"http://static.tianyancha.com/wap/images/right_bg2017.png\" style=\"position: absolute;right: 16px\"/></div></div><img alt=\"app下载\" class=\"bottom-banner-min\" ng-click=\"ctrlBanner(true);\" ng-if=\"isPCClient\" ng-show=\"!showBanner\" src=\"http://static.tianyancha.com/wap/images/left_banner2017.png\" style=\"z-index:200\"/></div><div ng-show=\"(!isPCClient&amp;&amp;!isTYCClient&amp;&amp;!isWebAppClient)&amp;&amp;!showBdBanner\"><div ng-click=\"closeClick(showBannerMobile);\" ng-cloak=\"\" ng-show=\"!showBannerMobile\" style=\"position: fixed;left: 0;bottom:90px;z-index: 400\"><img alt=\"下载天眼查专业版APP\" src=\"http://static.tianyancha.com/wap/images/mainV2_left2.png\" style=\"width: 40px\"/></div><div class=\"bottom-banner-mobile\" ng-cloak=\"\" ng-show=\"showBannerMobile\"><!--banner_wapV6--> <img alt=\"下载天眼查专业版APP\" class=\"logo download_global\" ng-click=\"appDownload();bEvent('wapDownload','click');\" src=\"http://static.tianyancha.com/wap/images/ny_wap_banner.png?_v=7d49moi5kqncs6bjyxlav3tuh-rz207gp8f1we\" style=\"display:none\"/> <img alt=\"下载天眼查专业版APP\" class=\"download_global ml10\" ng-click=\"appDownload();\" src=\"http://static.tianyancha.com/wap/images/WAP_banner2017.png?_v=87-gx65nuqzwtm0hoypifks9lr12v4e8cbadj3\" style=\"max-height: 90%;max-width: 80%\"/> <span style=\"display: none\"><div ng-click=\"appDownload();\"><img alt=\"下载天眼查专业版BtnAPP\" class=\"download_global\" src=\"http://static.tianyancha.com/wap/images/mainV2_download.png?_v=91t8zofl52yq9pgrxesd4nbuamchj3vi0-w7k6\"/></div></span><img alt=\"关闭\" class=\"close\" ng-click=\"closeClick(showBannerMobile);\" src=\"http://static.tianyancha.com/wap/images/wap_delete_nav.png\"/></div></div><div class=\"position-fixed\" ng-show=\"(!isPCClient&amp;&amp;!isTYCClient&amp;&amp;!isWebAppClient)&amp;&amp;showBdBanner\" style=\"bottom:0;width: 100%;z-index: 40000\"><div ng-click=\"closeClick(showBannerMobile);\" ng-cloak=\"\" ng-show=\"!showBannerMobile\" style=\"position: fixed;left: 0;bottom:90px;z-index: 400\"><img alt=\"下载天眼查专业版APP\" src=\"http://static.tianyancha.com/wap/images/mainV2_left2.png\" style=\"width: 40px\"/></div><div ng-show=\"showBannerMobile\"><a href=\"http://app.tianyancha.com/tyc/download?from=bd\" style=\"display: block\"><img alt=\"下载app\" src=\"http://static.tianyancha.com/wap/images/smsBanner1.png\" style=\"width: 100%\"/> </a><img alt=\"close\" ng-click=\"closeClick(showBannerMobile);\" src=\"http://static.tianyancha.com/wap/images/banner_06.png\" style=\"position: absolute;\n",
      "            top: 10px;\n",
      "            left: 10px;\n",
      "            width: 15px\"/></div></div></div>\n",
      "<div class=\"bottom-banner\" ng-cloak=\"\" ng-if=\"isPCClient\"><div class=\"bottom-banner-body2\" ng-if=\"showBanner\"><div style=\"position: absolute;top: 0;bottom: 0\"><img alt=\"\" src=\"http://static.tianyancha.com/wap/images/left_bg2017.png\"/></div><div class=\"bottom-banner-box2 company_container\"><img class=\"gt_global\" height=\"70px\" src=\"http://static.tianyancha.com/wap/images/banner_title2017.png?_v=687977737780-7669-7769-7884-657384797832\"/><div class=\"code_box\"><img class=\"gt_global\" src=\"http://static.tianyancha.com/wap/images/download_footerV5.png?_v=613267656772-6983-8479-6582-716940415932\" width=\"102px\"/></div><img class=\"close\" ng-click=\"ctrlBanner(false);\" src=\"http://static.tianyancha.com/wap/images/banner_06.png?_v=613267656772-6983-8479-6582-716940415932\"/> <img class=\"describe\" height=\"70px\" src=\"http://static.tianyancha.com/wap/images/hintV3.png?_v=613267656772-6983-8479-6582-716940415932\" style=\"opacity: 0\"/> <img alt=\"\" src=\"http://static.tianyancha.com/wap/images/right_bg2017.png\" style=\"position: absolute;right: 16px\"/></div></div><img alt=\"app下载\" class=\"bottom-banner-min\" ng-click=\"ctrlBanner(true);\" ng-if=\"isPCClient\" ng-show=\"!showBanner\" src=\"http://static.tianyancha.com/wap/images/left_banner2017.png\" style=\"z-index:200\"/></div>\n",
      "<div class=\"bottom-banner-body2\" ng-if=\"showBanner\"><div style=\"position: absolute;top: 0;bottom: 0\"><img alt=\"\" src=\"http://static.tianyancha.com/wap/images/left_bg2017.png\"/></div><div class=\"bottom-banner-box2 company_container\"><img class=\"gt_global\" height=\"70px\" src=\"http://static.tianyancha.com/wap/images/banner_title2017.png?_v=687977737780-7669-7769-7884-657384797832\"/><div class=\"code_box\"><img class=\"gt_global\" src=\"http://static.tianyancha.com/wap/images/download_footerV5.png?_v=613267656772-6983-8479-6582-716940415932\" width=\"102px\"/></div><img class=\"close\" ng-click=\"ctrlBanner(false);\" src=\"http://static.tianyancha.com/wap/images/banner_06.png?_v=613267656772-6983-8479-6582-716940415932\"/> <img class=\"describe\" height=\"70px\" src=\"http://static.tianyancha.com/wap/images/hintV3.png?_v=613267656772-6983-8479-6582-716940415932\" style=\"opacity: 0\"/> <img alt=\"\" src=\"http://static.tianyancha.com/wap/images/right_bg2017.png\" style=\"position: absolute;right: 16px\"/></div></div>\n",
      "<div style=\"position: absolute;top: 0;bottom: 0\"><img alt=\"\" src=\"http://static.tianyancha.com/wap/images/left_bg2017.png\"/></div>\n",
      "<div class=\"bottom-banner-box2 company_container\"><img class=\"gt_global\" height=\"70px\" src=\"http://static.tianyancha.com/wap/images/banner_title2017.png?_v=687977737780-7669-7769-7884-657384797832\"/><div class=\"code_box\"><img class=\"gt_global\" src=\"http://static.tianyancha.com/wap/images/download_footerV5.png?_v=613267656772-6983-8479-6582-716940415932\" width=\"102px\"/></div><img class=\"close\" ng-click=\"ctrlBanner(false);\" src=\"http://static.tianyancha.com/wap/images/banner_06.png?_v=613267656772-6983-8479-6582-716940415932\"/> <img class=\"describe\" height=\"70px\" src=\"http://static.tianyancha.com/wap/images/hintV3.png?_v=613267656772-6983-8479-6582-716940415932\" style=\"opacity: 0\"/> <img alt=\"\" src=\"http://static.tianyancha.com/wap/images/right_bg2017.png\" style=\"position: absolute;right: 16px\"/></div>\n",
      "<div class=\"code_box\"><img class=\"gt_global\" src=\"http://static.tianyancha.com/wap/images/download_footerV5.png?_v=613267656772-6983-8479-6582-716940415932\" width=\"102px\"/></div>\n",
      "<div ng-show=\"(!isPCClient&amp;&amp;!isTYCClient&amp;&amp;!isWebAppClient)&amp;&amp;!showBdBanner\"><div ng-click=\"closeClick(showBannerMobile);\" ng-cloak=\"\" ng-show=\"!showBannerMobile\" style=\"position: fixed;left: 0;bottom:90px;z-index: 400\"><img alt=\"下载天眼查专业版APP\" src=\"http://static.tianyancha.com/wap/images/mainV2_left2.png\" style=\"width: 40px\"/></div><div class=\"bottom-banner-mobile\" ng-cloak=\"\" ng-show=\"showBannerMobile\"><!--banner_wapV6--> <img alt=\"下载天眼查专业版APP\" class=\"logo download_global\" ng-click=\"appDownload();bEvent('wapDownload','click');\" src=\"http://static.tianyancha.com/wap/images/ny_wap_banner.png?_v=7d49moi5kqncs6bjyxlav3tuh-rz207gp8f1we\" style=\"display:none\"/> <img alt=\"下载天眼查专业版APP\" class=\"download_global ml10\" ng-click=\"appDownload();\" src=\"http://static.tianyancha.com/wap/images/WAP_banner2017.png?_v=87-gx65nuqzwtm0hoypifks9lr12v4e8cbadj3\" style=\"max-height: 90%;max-width: 80%\"/> <span style=\"display: none\"><div ng-click=\"appDownload();\"><img alt=\"下载天眼查专业版BtnAPP\" class=\"download_global\" src=\"http://static.tianyancha.com/wap/images/mainV2_download.png?_v=91t8zofl52yq9pgrxesd4nbuamchj3vi0-w7k6\"/></div></span><img alt=\"关闭\" class=\"close\" ng-click=\"closeClick(showBannerMobile);\" src=\"http://static.tianyancha.com/wap/images/wap_delete_nav.png\"/></div></div>\n",
      "<div ng-click=\"closeClick(showBannerMobile);\" ng-cloak=\"\" ng-show=\"!showBannerMobile\" style=\"position: fixed;left: 0;bottom:90px;z-index: 400\"><img alt=\"下载天眼查专业版APP\" src=\"http://static.tianyancha.com/wap/images/mainV2_left2.png\" style=\"width: 40px\"/></div>\n",
      "<div class=\"bottom-banner-mobile\" ng-cloak=\"\" ng-show=\"showBannerMobile\"><!--banner_wapV6--> <img alt=\"下载天眼查专业版APP\" class=\"logo download_global\" ng-click=\"appDownload();bEvent('wapDownload','click');\" src=\"http://static.tianyancha.com/wap/images/ny_wap_banner.png?_v=7d49moi5kqncs6bjyxlav3tuh-rz207gp8f1we\" style=\"display:none\"/> <img alt=\"下载天眼查专业版APP\" class=\"download_global ml10\" ng-click=\"appDownload();\" src=\"http://static.tianyancha.com/wap/images/WAP_banner2017.png?_v=87-gx65nuqzwtm0hoypifks9lr12v4e8cbadj3\" style=\"max-height: 90%;max-width: 80%\"/> <span style=\"display: none\"><div ng-click=\"appDownload();\"><img alt=\"下载天眼查专业版BtnAPP\" class=\"download_global\" src=\"http://static.tianyancha.com/wap/images/mainV2_download.png?_v=91t8zofl52yq9pgrxesd4nbuamchj3vi0-w7k6\"/></div></span><img alt=\"关闭\" class=\"close\" ng-click=\"closeClick(showBannerMobile);\" src=\"http://static.tianyancha.com/wap/images/wap_delete_nav.png\"/></div>\n",
      "<div ng-click=\"appDownload();\"><img alt=\"下载天眼查专业版BtnAPP\" class=\"download_global\" src=\"http://static.tianyancha.com/wap/images/mainV2_download.png?_v=91t8zofl52yq9pgrxesd4nbuamchj3vi0-w7k6\"/></div>\n",
      "<div class=\"position-fixed\" ng-show=\"(!isPCClient&amp;&amp;!isTYCClient&amp;&amp;!isWebAppClient)&amp;&amp;showBdBanner\" style=\"bottom:0;width: 100%;z-index: 40000\"><div ng-click=\"closeClick(showBannerMobile);\" ng-cloak=\"\" ng-show=\"!showBannerMobile\" style=\"position: fixed;left: 0;bottom:90px;z-index: 400\"><img alt=\"下载天眼查专业版APP\" src=\"http://static.tianyancha.com/wap/images/mainV2_left2.png\" style=\"width: 40px\"/></div><div ng-show=\"showBannerMobile\"><a href=\"http://app.tianyancha.com/tyc/download?from=bd\" style=\"display: block\"><img alt=\"下载app\" src=\"http://static.tianyancha.com/wap/images/smsBanner1.png\" style=\"width: 100%\"/> </a><img alt=\"close\" ng-click=\"closeClick(showBannerMobile);\" src=\"http://static.tianyancha.com/wap/images/banner_06.png\" style=\"position: absolute;\n",
      "            top: 10px;\n",
      "            left: 10px;\n",
      "            width: 15px\"/></div></div>\n",
      "<div ng-click=\"closeClick(showBannerMobile);\" ng-cloak=\"\" ng-show=\"!showBannerMobile\" style=\"position: fixed;left: 0;bottom:90px;z-index: 400\"><img alt=\"下载天眼查专业版APP\" src=\"http://static.tianyancha.com/wap/images/mainV2_left2.png\" style=\"width: 40px\"/></div>\n",
      "<div ng-show=\"showBannerMobile\"><a href=\"http://app.tianyancha.com/tyc/download?from=bd\" style=\"display: block\"><img alt=\"下载app\" src=\"http://static.tianyancha.com/wap/images/smsBanner1.png\" style=\"width: 100%\"/> </a><img alt=\"close\" ng-click=\"closeClick(showBannerMobile);\" src=\"http://static.tianyancha.com/wap/images/banner_06.png\" style=\"position: absolute;\n",
      "            top: 10px;\n",
      "            left: 10px;\n",
      "            width: 15px\"/></div>\n"
     ]
    }
   ],
   "source": [
    "for i in soup.body.find_all('div'):\n",
    "    print i"
   ]
  },
  {
   "cell_type": "code",
   "execution_count": 44,
   "metadata": {
    "collapsed": false
   },
   "outputs": [
    {
     "data": {
      "text/plain": [
       "[<div id=\"ng-view\" ng-view=\"\"></div>]"
      ]
     },
     "execution_count": 44,
     "metadata": {},
     "output_type": "execute_result"
    }
   ],
   "source": [
    "soup.find_all(id='ng-view')"
   ]
  },
  {
   "cell_type": "code",
   "execution_count": 37,
   "metadata": {
    "collapsed": false
   },
   "outputs": [
    {
     "data": {
      "text/plain": [
       "[]"
      ]
     },
     "execution_count": 37,
     "metadata": {},
     "output_type": "execute_result"
    }
   ],
   "source": [
    "soup.body.find_all(class_='ng-scope')"
   ]
  },
  {
   "cell_type": "code",
   "execution_count": 63,
   "metadata": {
    "collapsed": false
   },
   "outputs": [
    {
     "name": "stdout",
     "output_type": "stream",
     "text": [
      "<urllib2.Request instance at 0x0000000005F22B48>\n"
     ]
    }
   ],
   "source": [
    "print data"
   ]
  },
  {
   "cell_type": "code",
   "execution_count": 73,
   "metadata": {
    "collapsed": true
   },
   "outputs": [],
   "source": [
    "import redis"
   ]
  },
  {
   "cell_type": "code",
   "execution_count": 74,
   "metadata": {
    "collapsed": true
   },
   "outputs": [],
   "source": [
    "r = redis.StrictRedis()"
   ]
  },
  {
   "cell_type": "code",
   "execution_count": 75,
   "metadata": {
    "collapsed": false
   },
   "outputs": [
    {
     "data": {
      "text/plain": [
       "1"
      ]
     },
     "execution_count": 75,
     "metadata": {},
     "output_type": "execute_result"
    }
   ],
   "source": [
    "r.sadd('马化腾', 'sfdsd')"
   ]
  },
  {
   "cell_type": "code",
   "execution_count": 76,
   "metadata": {
    "collapsed": false
   },
   "outputs": [
    {
     "data": {
      "text/plain": [
       "0"
      ]
     },
     "execution_count": 76,
     "metadata": {},
     "output_type": "execute_result"
    }
   ],
   "source": [
    "r.sadd('马化腾', 'sfdsd')"
   ]
  },
  {
   "cell_type": "code",
   "execution_count": 77,
   "metadata": {
    "collapsed": false
   },
   "outputs": [
    {
     "data": {
      "text/plain": [
       "1"
      ]
     },
     "execution_count": 77,
     "metadata": {},
     "output_type": "execute_result"
    }
   ],
   "source": [
    "r.sadd('马化腾', 'sfdse')"
   ]
  },
  {
   "cell_type": "code",
   "execution_count": null,
   "metadata": {
    "collapsed": true
   },
   "outputs": [],
   "source": []
  }
 ],
 "metadata": {
  "kernelspec": {
   "display_name": "Python 2",
   "language": "python",
   "name": "python2"
  },
  "language_info": {
   "codemirror_mode": {
    "name": "ipython",
    "version": 2
   },
   "file_extension": ".py",
   "mimetype": "text/x-python",
   "name": "python",
   "nbconvert_exporter": "python",
   "pygments_lexer": "ipython2",
   "version": "2.7.13"
  }
 },
 "nbformat": 4,
 "nbformat_minor": 2
}
