{
 "cells": [
  {
   "cell_type": "code",
   "execution_count": 1,
   "metadata": {
    "collapsed": true
   },
   "outputs": [],
   "source": [
    "from bs4 import BeautifulSoup\n",
    "from selenium import webdriver"
   ]
  },
  {
   "cell_type": "code",
   "execution_count": 19,
   "metadata": {
    "collapsed": true
   },
   "outputs": [],
   "source": [
    "progPath = r\"C:\\Program Files\\phantomjs-2.1.1-windows\\bin\\phantomjs.exe\"\n",
    "driver = webdriver.PhantomJS(executable_path=progPath)\n",
    "url = \"http://www.tianyancha.com/company/4248724\"\n",
    "#hold_xpath = \"//div[@class='ng-scope'][2]/div[@class='ng-scope']//td[1]\"\n",
    "#invest_xpath = \"//div[@class='ng-scope'][3]//tr[@class='ng-scope']/td[1]\"\n",
    "hold_xpath = \"//div[@class='ng-scope'][2]//tr[@class='ng-scope']/td[1]/a\"\n",
    "invest_xpath = \"//div[@class='ng-scope'][3]//tr[@class='ng-scope']/td[1]/a\""
   ]
  },
  {
   "cell_type": "code",
   "execution_count": 20,
   "metadata": {
    "collapsed": true
   },
   "outputs": [],
   "source": [
    "driver.get(url)"
   ]
  },
  {
   "cell_type": "code",
   "execution_count": 21,
   "metadata": {
    "collapsed": true
   },
   "outputs": [],
   "source": [
    "hold_data = driver.find_elements_by_xpath(hold_xpath)\n",
    "invest_data = driver.find_elements_by_xpath(invest_xpath)"
   ]
  },
  {
   "cell_type": "code",
   "execution_count": 22,
   "metadata": {
    "collapsed": false
   },
   "outputs": [
    {
     "name": "stdout",
     "output_type": "stream",
     "text": [
      "国家质量监督检验检疫总局机关服务中心\n",
      "http://www.tianyancha.com/company/15447711\n"
     ]
    }
   ],
   "source": [
    "print hold_data[0].text\n",
    "print hold_data[0].get_attribute('href')"
   ]
  },
  {
   "cell_type": "code",
   "execution_count": 23,
   "metadata": {
    "collapsed": false
   },
   "outputs": [
    {
     "name": "stdout",
     "output_type": "stream",
     "text": [
      "中国检验认证集团检验有限公司\n",
      "http://www.tianyancha.com/company/16675388\n"
     ]
    }
   ],
   "source": [
    "print invest_data[0].text\n",
    "print invest_data[0].get_attribute('href')"
   ]
  },
  {
   "cell_type": "code",
   "execution_count": null,
   "metadata": {
    "collapsed": true
   },
   "outputs": [],
   "source": []
  }
 ],
 "metadata": {
  "kernelspec": {
   "display_name": "Python 2",
   "language": "python",
   "name": "python2"
  },
  "language_info": {
   "codemirror_mode": {
    "name": "ipython",
    "version": 2
   },
   "file_extension": ".py",
   "mimetype": "text/x-python",
   "name": "python",
   "nbconvert_exporter": "python",
   "pygments_lexer": "ipython2",
   "version": "2.7.13"
  }
 },
 "nbformat": 4,
 "nbformat_minor": 2
}
