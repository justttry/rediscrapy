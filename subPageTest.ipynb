{
 "cells": [
  {
   "cell_type": "code",
   "execution_count": 13,
   "metadata": {
    "collapsed": true
   },
   "outputs": [],
   "source": [
    "from bs4 import BeautifulSoup\n",
    "from selenium import webdriver"
   ]
  },
  {
   "cell_type": "code",
   "execution_count": 14,
   "metadata": {
    "collapsed": true
   },
   "outputs": [],
   "source": [
    "progPath = r\"C:\\Program Files\\phantomjs-2.1.1-windows\\bin\\phantomjs.exe\"\n",
    "driver = webdriver.PhantomJS(executable_path=progPath)\n",
    "url = \"http://bj.tianyancha.com/search/p14\""
   ]
  },
  {
   "cell_type": "code",
   "execution_count": 15,
   "metadata": {
    "collapsed": true
   },
   "outputs": [],
   "source": [
    "driver.get(url)"
   ]
  },
  {
   "cell_type": "code",
   "execution_count": 16,
   "metadata": {
    "collapsed": true
   },
   "outputs": [],
   "source": [
    "xpath = \"//a[@class='query_name search-new-color']\""
   ]
  },
  {
   "cell_type": "code",
   "execution_count": 17,
   "metadata": {
    "collapsed": true
   },
   "outputs": [],
   "source": [
    "data = driver.find_elements_by_xpath(xpath)"
   ]
  },
  {
   "cell_type": "code",
   "execution_count": 18,
   "metadata": {
    "collapsed": false
   },
   "outputs": [
    {
     "name": "stdout",
     "output_type": "stream",
     "text": [
      "中国检验认证（集团）有限公司 http://www.tianyancha.com/company/4248724\n",
      "北京市有色金属工业总公司 http://www.tianyancha.com/company/395385\n",
      "北京银建投资公司 http://www.tianyancha.com/company/5309154\n",
      "北京标志基汇投资有限公司 http://www.tianyancha.com/company/22297653\n",
      "北京华信电子企业集团 http://www.tianyancha.com/company/607987\n",
      "北京鹏润投资有限公司 http://www.tianyancha.com/company/2954997\n",
      "北京京铁实业开发总公司 http://www.tianyancha.com/company/1760522\n",
      "北京中邮资产管理有限公司 http://www.tianyancha.com/company/25952946\n",
      "北京市食品公司 http://www.tianyancha.com/company/4038095\n",
      "中国风险投资有限公司 http://www.tianyancha.com/company/1458533\n",
      "中国中化集团公司 http://www.tianyancha.com/company/14733566\n",
      "北京金通资产经营管理公司 http://www.tianyancha.com/company/1136032\n",
      "北京富力城房地产开发有限公司 http://www.tianyancha.com/company/2902988\n",
      "北京中民资产管理有限公司 http://www.tianyancha.com/company/2353358769\n",
      "北京盛世恒兴格力国际贸易有限公司 http://www.tianyancha.com/company/1213946\n",
      "中国外轮理货总公司 http://www.tianyancha.com/company/6950903\n",
      "华晨电力股份公司 http://www.tianyancha.com/company/2450873725\n",
      "中国中化股份有限公司 http://www.tianyancha.com/company/7623655\n",
      "泛海资本投资管理集团有限公司 http://www.tianyancha.com/company/2353037428\n",
      "中国新兴（集团）总公司 http://www.tianyancha.com/company/19261871\n"
     ]
    }
   ],
   "source": [
    "for i in data:\n",
    "    print i.text, i.get_attribute('href')"
   ]
  },
  {
   "cell_type": "code",
   "execution_count": null,
   "metadata": {
    "collapsed": true
   },
   "outputs": [],
   "source": []
  }
 ],
 "metadata": {
  "kernelspec": {
   "display_name": "Python 2",
   "language": "python",
   "name": "python2"
  },
  "language_info": {
   "codemirror_mode": {
    "name": "ipython",
    "version": 2
   },
   "file_extension": ".py",
   "mimetype": "text/x-python",
   "name": "python",
   "nbconvert_exporter": "python",
   "pygments_lexer": "ipython2",
   "version": "2.7.13"
  }
 },
 "nbformat": 4,
 "nbformat_minor": 2
}
