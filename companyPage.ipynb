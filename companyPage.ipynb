{
 "cells": [
  {
   "cell_type": "code",
   "execution_count": 61,
   "metadata": {
    "collapsed": true
   },
   "outputs": [],
   "source": [
    "from bs4 import BeautifulSoup\n",
    "from selenium import webdriver"
   ]
  },
  {
   "cell_type": "code",
   "execution_count": 76,
   "metadata": {
    "collapsed": true
   },
   "outputs": [],
   "source": [
    "progPath = r\"C:\\Program Files\\phantomjs-2.1.1-windows\\bin\\phantomjs.exe\"\n",
    "driver = webdriver.PhantomJS(executable_path=progPath)\n",
    "url = \"http://www.tianyancha.com/company/4248724\"\n",
    "#hold_xpath = \"//div[@class='ng-scope'][2]/div[@class='ng-scope']//td[1]\"\n",
    "#invest_xpath = \"//div[@class='ng-scope'][3]//tr[@class='ng-scope']/td[1]\"\n",
    "hold_xpath = \"//div[@class='ng-scope'][2]//tr[@class='ng-scope']/td[1]/a\"\n",
    "invest_xpath = \"//div[@class='ng-scope'][3]//tr[@class='ng-scope']/td[1]/a\""
   ]
  },
  {
   "cell_type": "code",
   "execution_count": 77,
   "metadata": {
    "collapsed": true
   },
   "outputs": [],
   "source": [
    "driver.get(url)"
   ]
  },
  {
   "cell_type": "code",
   "execution_count": 78,
   "metadata": {
    "collapsed": true
   },
   "outputs": [],
   "source": [
    "hold_data = driver.find_elements_by_xpath(hold_xpath)\n",
    "invest_data = driver.find_elements_by_xpath(invest_xpath)"
   ]
  },
  {
   "cell_type": "code",
   "execution_count": 79,
   "metadata": {
    "collapsed": false
   },
   "outputs": [
    {
     "name": "stdout",
     "output_type": "stream",
     "text": [
      "国家质量监督检验检疫总局机关服务中心\n",
      "http://www.tianyancha.com/company/15447711\n"
     ]
    }
   ],
   "source": [
    "print hold_data[0].text\n",
    "print hold_data[0].get_attribute('href')"
   ]
  },
  {
   "cell_type": "code",
   "execution_count": 80,
   "metadata": {
    "collapsed": false
   },
   "outputs": [
    {
     "name": "stdout",
     "output_type": "stream",
     "text": [
      "中国检验认证集团检验有限公司\n",
      "http://www.tianyancha.com/company/16675388\n"
     ]
    }
   ],
   "source": [
    "print invest_data[0].text\n",
    "print invest_data[0].get_attribute('href')"
   ]
  },
  {
   "cell_type": "code",
   "execution_count": 81,
   "metadata": {
    "collapsed": true
   },
   "outputs": [],
   "source": [
    "cominfo_xpath = \"//td/div[@class='c8']\""
   ]
  },
  {
   "cell_type": "code",
   "execution_count": 82,
   "metadata": {
    "collapsed": true
   },
   "outputs": [],
   "source": [
    "cominfo_data = driver.find_elements_by_xpath(cominfo_xpath)"
   ]
  },
  {
   "cell_type": "code",
   "execution_count": 83,
   "metadata": {
    "collapsed": false
   },
   "outputs": [
    {
     "name": "stdout",
     "output_type": "stream",
     "text": [
      "工商注册号：211103000028004\n",
      "组织机构代码：未公开\n",
      "统一信用代码：未公开\n",
      "企业类型：有限责任公司(自然人独资)\n",
      "行业：租赁业\n",
      "营业期限： 2015-06-19至2035-06-18\n",
      "核准日期： 2015-06-19\n",
      "登记机关：盘锦市兴隆台区市场监督管理局\n",
      "注册地址：辽宁省盘锦市兴隆台区振兴农贸市场东侧门市精品间\n",
      "经营范围： 汽车租赁服务；二手车经销。（依法须经批准的项目，经相关部门批准后方可开展经营活动。）\n"
     ]
    }
   ],
   "source": [
    "for i in cominfo_data:\n",
    "    print i.text"
   ]
  },
  {
   "cell_type": "code",
   "execution_count": 39,
   "metadata": {
    "collapsed": false
   },
   "outputs": [
    {
     "data": {
      "text/plain": [
       "u'\\u5de5\\u5546\\u6ce8\\u518c\\u53f7\\uff1a321181000050811'"
      ]
     },
     "execution_count": 39,
     "metadata": {},
     "output_type": "execute_result"
    }
   ],
   "source": [
    "cominfo_data[0].text"
   ]
  },
  {
   "cell_type": "code",
   "execution_count": 47,
   "metadata": {
    "collapsed": false
   },
   "outputs": [
    {
     "data": {
      "text/plain": [
       "[u'\\u5de5\\u5546\\u6ce8\\u518c\\u53f7', u'321181000050811']"
      ]
     },
     "execution_count": 47,
     "metadata": {},
     "output_type": "execute_result"
    }
   ],
   "source": [
    "cominfo_data[0].text.replace(u'\\uff1a', ' ').split()"
   ]
  },
  {
   "cell_type": "code",
   "execution_count": 43,
   "metadata": {
    "collapsed": false
   },
   "outputs": [
    {
     "name": "stdout",
     "output_type": "stream",
     "text": [
      "：\n"
     ]
    }
   ],
   "source": [
    "print u'\\uff1a'"
   ]
  },
  {
   "cell_type": "code",
   "execution_count": 48,
   "metadata": {
    "collapsed": true
   },
   "outputs": [],
   "source": [
    "datas = [i.text.replace(u'\\uff1a', ' ').split() for\\\n",
    "                        i in cominfo_data]"
   ]
  },
  {
   "cell_type": "code",
   "execution_count": 53,
   "metadata": {
    "collapsed": false
   },
   "outputs": [
    {
     "data": {
      "text/plain": [
       "[[u'\\u5de5\\u5546\\u6ce8\\u518c\\u53f7', u'321181000050811'],\n",
       " [u'\\u7ec4\\u7ec7\\u673a\\u6784\\u4ee3\\u7801', u'765140371'],\n",
       " [u'\\u7edf\\u4e00\\u4fe1\\u7528\\u4ee3\\u7801', u'91321181765140371K'],\n",
       " [u'\\u4f01\\u4e1a\\u7c7b\\u578b', u'\\u6709\\u9650\\u8d23\\u4efb\\u516c\\u53f8'],\n",
       " [u'\\u884c\\u4e1a',\n",
       "  u'\\u7535\\u6c14\\u673a\\u68b0\\u548c\\u5668\\u6750\\u5236\\u9020\\u4e1a'],\n",
       " [u'\\u8425\\u4e1a\\u671f\\u9650', u'2004-08-24\\u81f32044-08-23'],\n",
       " [u'\\u6838\\u51c6\\u65e5\\u671f', u'2016-06-17'],\n",
       " [u'\\u767b\\u8bb0\\u673a\\u5173',\n",
       "  u'\\u9547\\u6c5f\\u5e02\\u4e39\\u9633\\u5de5\\u5546\\u884c\\u653f\\u7ba1\\u7406\\u5c40'],\n",
       " [u'\\u6ce8\\u518c\\u5730\\u5740',\n",
       "  u'\\u4e39\\u9633\\u5e02\\u754c\\u724c\\u9547\\u5317\\u5927\\u8857'],\n",
       " [u'\\u7ecf\\u8425\\u8303\\u56f4',\n",
       "  u'\\u8def\\u706f\\u53ca\\u8def\\u706f\\u914d\\u4ef6\\u3001\\u592a\\u9633\\u80fdLED\\u8282\\u80fd\\u7167\\u660e\\u7cfb\\u5217\\u4ea7\\u54c1\\u5236\\u9020\\u9500\\u552e\\u65bd\\u5de5\\u5b89\\u88c5\\uff0c\\u81ea\\u8425\\u548c\\u4ee3\\u7406\\u5404\\u7c7b\\u8d27\\u7269\\u53ca\\u6280\\u672f\\u7684\\u8fdb\\u51fa\\u53e3\\u4e1a\\u52a1\\uff08\\u4f46\\u56fd\\u5bb6\\u9650\\u5b9a\\u516c\\u53f8\\u7ecf\\u8425\\u6216\\u7981\\u6b62\\u8fdb\\u51fa\\u53e3\\u7684\\u5546\\u54c1\\u53ca\\u6280\\u672f\\u9664\\u5916\\uff09\\u3002\\uff08\\u4f9d\\u6cd5\\u987b\\u7ecf\\u6279\\u51c6\\u7684\\u9879\\u76ee\\uff0c\\u7ecf\\u76f8\\u5173\\u90e8\\u95e8\\u6279\\u51c6\\u540e\\u65b9\\u53ef\\u5f00\\u5c55\\u7ecf\\u8425\\u6d3b\\u52a8\\uff09']]"
      ]
     },
     "execution_count": 53,
     "metadata": {},
     "output_type": "execute_result"
    }
   ],
   "source": [
    "datas"
   ]
  },
  {
   "cell_type": "code",
   "execution_count": 54,
   "metadata": {
    "collapsed": false
   },
   "outputs": [],
   "source": [
    "comInfo = {i[0]: i[1] for i in datas}"
   ]
  },
  {
   "cell_type": "code",
   "execution_count": 55,
   "metadata": {
    "collapsed": false
   },
   "outputs": [
    {
     "data": {
      "text/plain": [
       "{u'\\u4f01\\u4e1a\\u7c7b\\u578b': u'\\u6709\\u9650\\u8d23\\u4efb\\u516c\\u53f8',\n",
       " u'\\u5de5\\u5546\\u6ce8\\u518c\\u53f7': u'321181000050811',\n",
       " u'\\u6838\\u51c6\\u65e5\\u671f': u'2016-06-17',\n",
       " u'\\u6ce8\\u518c\\u5730\\u5740': u'\\u4e39\\u9633\\u5e02\\u754c\\u724c\\u9547\\u5317\\u5927\\u8857',\n",
       " u'\\u767b\\u8bb0\\u673a\\u5173': u'\\u9547\\u6c5f\\u5e02\\u4e39\\u9633\\u5de5\\u5546\\u884c\\u653f\\u7ba1\\u7406\\u5c40',\n",
       " u'\\u7ec4\\u7ec7\\u673a\\u6784\\u4ee3\\u7801': u'765140371',\n",
       " u'\\u7ecf\\u8425\\u8303\\u56f4': u'\\u8def\\u706f\\u53ca\\u8def\\u706f\\u914d\\u4ef6\\u3001\\u592a\\u9633\\u80fdLED\\u8282\\u80fd\\u7167\\u660e\\u7cfb\\u5217\\u4ea7\\u54c1\\u5236\\u9020\\u9500\\u552e\\u65bd\\u5de5\\u5b89\\u88c5\\uff0c\\u81ea\\u8425\\u548c\\u4ee3\\u7406\\u5404\\u7c7b\\u8d27\\u7269\\u53ca\\u6280\\u672f\\u7684\\u8fdb\\u51fa\\u53e3\\u4e1a\\u52a1\\uff08\\u4f46\\u56fd\\u5bb6\\u9650\\u5b9a\\u516c\\u53f8\\u7ecf\\u8425\\u6216\\u7981\\u6b62\\u8fdb\\u51fa\\u53e3\\u7684\\u5546\\u54c1\\u53ca\\u6280\\u672f\\u9664\\u5916\\uff09\\u3002\\uff08\\u4f9d\\u6cd5\\u987b\\u7ecf\\u6279\\u51c6\\u7684\\u9879\\u76ee\\uff0c\\u7ecf\\u76f8\\u5173\\u90e8\\u95e8\\u6279\\u51c6\\u540e\\u65b9\\u53ef\\u5f00\\u5c55\\u7ecf\\u8425\\u6d3b\\u52a8\\uff09',\n",
       " u'\\u7edf\\u4e00\\u4fe1\\u7528\\u4ee3\\u7801': u'91321181765140371K',\n",
       " u'\\u8425\\u4e1a\\u671f\\u9650': u'2004-08-24\\u81f32044-08-23',\n",
       " u'\\u884c\\u4e1a': u'\\u7535\\u6c14\\u673a\\u68b0\\u548c\\u5668\\u6750\\u5236\\u9020\\u4e1a'}"
      ]
     },
     "execution_count": 55,
     "metadata": {},
     "output_type": "execute_result"
    }
   ],
   "source": [
    "comInfo"
   ]
  },
  {
   "cell_type": "code",
   "execution_count": null,
   "metadata": {
    "collapsed": true
   },
   "outputs": [],
   "source": []
  }
 ],
 "metadata": {
  "kernelspec": {
   "display_name": "Python 2",
   "language": "python",
   "name": "python2"
  },
  "language_info": {
   "codemirror_mode": {
    "name": "ipython",
    "version": 2
   },
   "file_extension": ".py",
   "mimetype": "text/x-python",
   "name": "python",
   "nbconvert_exporter": "python",
   "pygments_lexer": "ipython2",
   "version": "2.7.13"
  }
 },
 "nbformat": 4,
 "nbformat_minor": 2
}
